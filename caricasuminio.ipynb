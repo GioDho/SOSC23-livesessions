{
 "cells": [
  {
   "cell_type": "code",
   "execution_count": 1,
   "id": "0cb50110-5d8a-4e0f-bd59-7a5b71065406",
   "metadata": {},
   "outputs": [
    {
     "name": "stdout",
     "output_type": "stream",
     "text": [
      "Username: giorgiodho\n",
      "password: 88925b26012af8ed32dbdeae28347a11\n"
     ]
    }
   ],
   "source": [
    "import hashlib\n",
    "import os\n",
    "import boto3\n",
    "\n",
    "username = os.environ['JUPYTERHUB_USER']\n",
    "hash_object = hashlib.md5(f'{username}'.encode())\n",
    "password = hash_object.hexdigest()\n",
    "print(f\"Username: {username}\\npassword: {password}\")\n",
    "\n",
    "s3client = boto3.client('s3',\n",
    "    aws_access_key_id=username,\n",
    "    aws_secret_access_key=password,\n",
    "    endpoint_url=\"https://minio.131.154.99.220.myip.cloud.infn.it\",\n",
    "    region_name='default',)"
   ]
  },
  {
   "cell_type": "code",
   "execution_count": 16,
   "id": "7261db5a-2082-43f1-bbd2-d3208a13f83e",
   "metadata": {},
   "outputs": [],
   "source": [
    "bucket_name = 'giorgiodho'\n",
    "upload = s3client.upload_file('day4/02-student-project/notebooks/Train.ipynb', bucket_name, 'Results/Project-Day4/notebooks/Train.ipynb')"
   ]
  },
  {
   "cell_type": "code",
   "execution_count": null,
   "id": "3c50b982-dd29-471f-94a9-9a70aa6d5751",
   "metadata": {},
   "outputs": [],
   "source": []
  }
 ],
 "metadata": {
  "kernelspec": {
   "display_name": "Python 3 (ipykernel)",
   "language": "python",
   "name": "python3"
  },
  "language_info": {
   "codemirror_mode": {
    "name": "ipython",
    "version": 3
   },
   "file_extension": ".py",
   "mimetype": "text/x-python",
   "name": "python",
   "nbconvert_exporter": "python",
   "pygments_lexer": "ipython3",
   "version": "3.10.11"
  }
 },
 "nbformat": 4,
 "nbformat_minor": 5
}
