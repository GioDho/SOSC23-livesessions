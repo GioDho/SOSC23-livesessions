{
 "cells": [
  {
   "cell_type": "code",
   "execution_count": 1,
   "id": "37a63153-07cc-4be7-9371-75f5f4af86ac",
   "metadata": {
    "editable": true,
    "execution": {
     "iopub.execute_input": "2023-10-26T11:06:25.898614Z",
     "iopub.status.busy": "2023-10-26T11:06:25.897688Z",
     "iopub.status.idle": "2023-10-26T11:06:27.067167Z",
     "shell.execute_reply": "2023-10-26T11:06:27.066045Z"
    },
    "papermill": {
     "duration": 1.176829,
     "end_time": "2023-10-26T11:06:27.069822",
     "exception": false,
     "start_time": "2023-10-26T11:06:25.892993",
     "status": "completed"
    },
    "slideshow": {
     "slide_type": ""
    },
    "tags": []
   },
   "outputs": [],
   "source": [
    "from urllib.request import urlretrieve\n",
    "import mlflow\n",
    "import os"
   ]
  },
  {
   "cell_type": "code",
   "execution_count": 2,
   "id": "daa88a9e-8756-4f43-b2ca-d8ddc18fa885",
   "metadata": {
    "editable": true,
    "execution": {
     "iopub.execute_input": "2023-10-26T11:06:27.161877Z",
     "iopub.status.busy": "2023-10-26T11:06:27.161326Z",
     "iopub.status.idle": "2023-10-26T11:06:27.166125Z",
     "shell.execute_reply": "2023-10-26T11:06:27.165286Z"
    },
    "papermill": {
     "duration": 0.095765,
     "end_time": "2023-10-26T11:06:27.168070",
     "exception": false,
     "start_time": "2023-10-26T11:06:27.072305",
     "status": "completed"
    },
    "slideshow": {
     "slide_type": ""
    },
    "tags": [
     "parameters"
    ]
   },
   "outputs": [],
   "source": [
    "data_url = \"https://raw.githubusercontent.com/mlflow/mlflow/master/tests/datasets/winequality-red.csv\""
   ]
  },
  {
   "cell_type": "code",
   "execution_count": 3,
   "id": "b21ea3a3",
   "metadata": {
    "execution": {
     "iopub.execute_input": "2023-10-26T11:06:27.181889Z",
     "iopub.status.busy": "2023-10-26T11:06:27.181516Z",
     "iopub.status.idle": "2023-10-26T11:06:27.186064Z",
     "shell.execute_reply": "2023-10-26T11:06:27.185284Z"
    },
    "papermill": {
     "duration": 0.014338,
     "end_time": "2023-10-26T11:06:27.188105",
     "exception": false,
     "start_time": "2023-10-26T11:06:27.173767",
     "status": "completed"
    },
    "tags": [
     "injected-parameters"
    ]
   },
   "outputs": [],
   "source": [
    "# Parameters\n",
    "data_url = \"https://raw.githubusercontent.com/mlflow/mlflow/master/tests/datasets/winequality-red.csv\"\n"
   ]
  },
  {
   "cell_type": "code",
   "execution_count": 4,
   "id": "80f22c27-2130-48d7-b4f6-2a90584a7abb",
   "metadata": {
    "editable": true,
    "execution": {
     "iopub.execute_input": "2023-10-26T11:06:27.197633Z",
     "iopub.status.busy": "2023-10-26T11:06:27.197306Z",
     "iopub.status.idle": "2023-10-26T11:06:28.159468Z",
     "shell.execute_reply": "2023-10-26T11:06:28.158466Z"
    },
    "papermill": {
     "duration": 0.971874,
     "end_time": "2023-10-26T11:06:28.161682",
     "exception": false,
     "start_time": "2023-10-26T11:06:27.189808",
     "status": "completed"
    },
    "slideshow": {
     "slide_type": ""
    },
    "tags": []
   },
   "outputs": [
    {
     "name": "stderr",
     "output_type": "stream",
     "text": [
      "/opt/conda/lib/python3.10/site-packages/urllib3/connectionpool.py:1095: InsecureRequestWarning: Unverified HTTPS request is being made to host 'giorgiodho-mlflow.131.154.99.220.myip.cloud.infn.it'. Adding certificate verification is strongly advised. See: https://urllib3.readthedocs.io/en/latest/advanced-usage.html#tls-warnings\n",
      "  warnings.warn(\n",
      "/opt/conda/lib/python3.10/site-packages/urllib3/connectionpool.py:1095: InsecureRequestWarning: Unverified HTTPS request is being made to host 'giorgiodho-mlflow.131.154.99.220.myip.cloud.infn.it'. Adding certificate verification is strongly advised. See: https://urllib3.readthedocs.io/en/latest/advanced-usage.html#tls-warnings\n",
      "  warnings.warn(\n",
      "/opt/conda/lib/python3.10/site-packages/urllib3/connectionpool.py:1095: InsecureRequestWarning: Unverified HTTPS request is being made to host 'giorgiodho-mlflow.131.154.99.220.myip.cloud.infn.it'. Adding certificate verification is strongly advised. See: https://urllib3.readthedocs.io/en/latest/advanced-usage.html#tls-warnings\n",
      "  warnings.warn(\n",
      "/opt/conda/lib/python3.10/site-packages/urllib3/connectionpool.py:1095: InsecureRequestWarning: Unverified HTTPS request is being made to host 'giorgiodho-mlflow.131.154.99.220.myip.cloud.infn.it'. Adding certificate verification is strongly advised. See: https://urllib3.readthedocs.io/en/latest/advanced-usage.html#tls-warnings\n",
      "  warnings.warn(\n",
      "/opt/conda/lib/python3.10/site-packages/urllib3/connectionpool.py:1095: InsecureRequestWarning: Unverified HTTPS request is being made to host 'giorgiodho-mlflow.131.154.99.220.myip.cloud.infn.it'. Adding certificate verification is strongly advised. See: https://urllib3.readthedocs.io/en/latest/advanced-usage.html#tls-warnings\n",
      "  warnings.warn(\n",
      "/opt/conda/lib/python3.10/site-packages/urllib3/connectionpool.py:1095: InsecureRequestWarning: Unverified HTTPS request is being made to host 'giorgiodho-mlflow.131.154.99.220.myip.cloud.infn.it'. Adding certificate verification is strongly advised. See: https://urllib3.readthedocs.io/en/latest/advanced-usage.html#tls-warnings\n",
      "  warnings.warn(\n"
     ]
    },
    {
     "name": "stderr",
     "output_type": "stream",
     "text": [
      "/opt/conda/lib/python3.10/site-packages/urllib3/connectionpool.py:1095: InsecureRequestWarning: Unverified HTTPS request is being made to host 'giorgiodho-mlflow.131.154.99.220.myip.cloud.infn.it'. Adding certificate verification is strongly advised. See: https://urllib3.readthedocs.io/en/latest/advanced-usage.html#tls-warnings\n",
      "  warnings.warn(\n"
     ]
    }
   ],
   "source": [
    "with mlflow.start_run(tags={\"mlflow.runName\": \"Download\"}) as mlrun:\n",
    "    csv_path = \"dataset.csv\"\n",
    "    urlretrieve(data_url, csv_path)\n",
    "    mlflow.log_artifact(csv_path)"
   ]
  }
 ],
 "metadata": {
  "kernelspec": {
   "display_name": "Python 3 (ipykernel)",
   "language": "python",
   "name": "python3"
  },
  "language_info": {
   "codemirror_mode": {
    "name": "ipython",
    "version": 3
   },
   "file_extension": ".py",
   "mimetype": "text/x-python",
   "name": "python",
   "nbconvert_exporter": "python",
   "pygments_lexer": "ipython3",
   "version": "3.10.11"
  },
  "papermill": {
   "default_parameters": {},
   "duration": 4.761363,
   "end_time": "2023-10-26T11:06:28.693107",
   "environment_variables": {},
   "exception": null,
   "input_path": "load_data.ipynb",
   "output_path": "output/load_data-out.ipynb",
   "parameters": {
    "data_url": "https://raw.githubusercontent.com/mlflow/mlflow/master/tests/datasets/winequality-red.csv"
   },
   "start_time": "2023-10-26T11:06:23.931744",
   "version": "2.4.0"
  }
 },
 "nbformat": 4,
 "nbformat_minor": 5
}